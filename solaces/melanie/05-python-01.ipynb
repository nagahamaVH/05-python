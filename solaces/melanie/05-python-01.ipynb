{
 "cells": [
  {
   "cell_type": "markdown",
   "metadata": {},
   "source": [
    "## 1)\n",
    "1. \\$ python    \n",
    "1. \\$ 2+3  \n",
    "1\n"
   ]
  },
  {
   "cell_type": "markdown",
   "metadata": {},
   "source": [
    "## 2)"
   ]
  },
  {
   "cell_type": "markdown",
   "metadata": {},
   "source": [
    "1. \\$ nano hello.py"
   ]
  },
  {
   "cell_type": "code",
   "execution_count": null,
   "metadata": {},
   "outputs": [],
   "source": [
    "for i in range(0,4):\n",
    "    print('Hello world')"
   ]
  },
  {
   "cell_type": "markdown",
   "metadata": {},
   "source": [
    "2. \\$ python hello.py"
   ]
  },
  {
   "cell_type": "markdown",
   "metadata": {},
   "source": [
    "## 3)"
   ]
  },
  {
   "cell_type": "code",
   "execution_count": null,
   "metadata": {},
   "outputs": [],
   "source": [
    "'''1+2'''\n",
    "    "
   ]
  },
  {
   "cell_type": "markdown",
   "metadata": {},
   "source": [
    "Precisa tirar as aspas, porque elas são para fazer comentários."
   ]
  },
  {
   "cell_type": "code",
   "execution_count": null,
   "metadata": {},
   "outputs": [],
   "source": [
    "1+2"
   ]
  },
  {
   "cell_type": "markdown",
   "metadata": {},
   "source": [
    "## 4)"
   ]
  },
  {
   "cell_type": "markdown",
   "metadata": {},
   "source": [
    "Tentativa: a saída será x=2, y=5"
   ]
  },
  {
   "cell_type": "code",
   "execution_count": null,
   "metadata": {},
   "outputs": [],
   "source": [
    "x=4\n",
    "y=x+1\n",
    "x=2\n",
    "print(x, y)"
   ]
  },
  {
   "cell_type": "markdown",
   "metadata": {},
   "source": [
    "## 5)"
   ]
  },
  {
   "cell_type": "markdown",
   "metadata": {},
   "source": [
    "Tentativa: a saída será x=6, y=4"
   ]
  },
  {
   "cell_type": "code",
   "execution_count": null,
   "metadata": {},
   "outputs": [],
   "source": [
    "x, y = 2, 6\n",
    "x, y = y, x+2\n",
    "print(x, y)"
   ]
  },
  {
   "cell_type": "markdown",
   "metadata": {},
   "source": [
    "## 6)"
   ]
  },
  {
   "cell_type": "markdown",
   "metadata": {},
   "source": [
    "Tentativa: a saída será a=2, b=error ,c=2 "
   ]
  },
  {
   "cell_type": "code",
   "execution_count": null,
   "metadata": {},
   "outputs": [],
   "source": [
    "a, b = 2, 3\n",
    "c, b = a, c + 1\n",
    "print(a, b, c)"
   ]
  },
  {
   "cell_type": "markdown",
   "metadata": {},
   "source": [
    "## 7)"
   ]
  },
  {
   "cell_type": "code",
   "execution_count": null,
   "metadata": {},
   "outputs": [],
   "source": [
    "numcalls = 0\n",
    "def square(x):\n",
    "    global numcalls\n",
    "    numcalls = numcalls + 1\n",
    "    return x * x\n",
    "\n",
    "print(square(5))    #1 multiplicação executada\n",
    "print(square(2*5))  #2 multiplicações executadas"
   ]
  },
  {
   "cell_type": "markdown",
   "metadata": {},
   "source": [
    "## 8)"
   ]
  },
  {
   "cell_type": "code",
   "execution_count": null,
   "metadata": {},
   "outputs": [],
   "source": [
    "x = 1\n",
    "def f():\n",
    "    return x\n",
    "print(x)     #Saída = '1'\n",
    "print(f())   #Saída = '1'"
   ]
  },
  {
   "cell_type": "markdown",
   "metadata": {},
   "source": [
    "## 9)"
   ]
  },
  {
   "cell_type": "code",
   "execution_count": null,
   "metadata": {},
   "outputs": [],
   "source": [
    "\tx = 1\n",
    "\tdef f():\n",
    "            x = 2\n",
    "            return x\n",
    "\tprint(x)    #Saída = '1'\n",
    "\tprint(f())  #Saída = '2'\n",
    "\tprint(x)    #Saída = '1'"
   ]
  },
  {
   "cell_type": "markdown",
   "metadata": {},
   "source": [
    "## 10)"
   ]
  },
  {
   "cell_type": "code",
   "execution_count": null,
   "metadata": {},
   "outputs": [],
   "source": [
    "\tx = 1\n",
    "\tdef f():\n",
    "\t\ty = x\n",
    "\t\tx = 2\n",
    "\t\treturn x + y\n",
    "\tprint(x)    #Saída = '1'\n",
    "\tprint(f())  #Saída = 'Erro, porque x foi definido depois de ser chamado'\n",
    "\tprint(x)    #Saída = '1'"
   ]
  },
  {
   "cell_type": "markdown",
   "metadata": {},
   "source": [
    "## 11)"
   ]
  },
  {
   "cell_type": "code",
   "execution_count": null,
   "metadata": {},
   "outputs": [],
   "source": [
    "    x = 2\n",
    "    def f(a):\n",
    "        x = a * a\n",
    "        return x\n",
    "    y = f(3)\n",
    "    print(x, y) #Saída: 2, 9"
   ]
  },
  {
   "cell_type": "markdown",
   "metadata": {},
   "source": [
    "## 12)"
   ]
  },
  {
   "cell_type": "code",
   "execution_count": null,
   "metadata": {},
   "outputs": [],
   "source": [
    "def count_digits(x):\n",
    "    string_x = str(x)\n",
    "    tipo = type(x)\n",
    "    \n",
    "    if tipo == int:   \n",
    "        length = len(string_x)\n",
    "    elif tipo == float:\n",
    "        length = len(string_x)-1\n",
    "    \n",
    "    return(length)\n",
    "\n",
    "a=4.4\n",
    "count_digits(a)"
   ]
  },
  {
   "cell_type": "markdown",
   "metadata": {},
   "source": [
    "## 13)"
   ]
  },
  {
   "cell_type": "code",
   "execution_count": null,
   "metadata": {},
   "outputs": [],
   "source": [
    "def istrcmp(x,y):\n",
    "    string_x=str(x)\n",
    "    upper_x=string_x.upper()\n",
    "    string_y=str(y)\n",
    "    upper_y=string_y.upper()\n",
    "    \n",
    "    if upper_x == upper_y:\n",
    "        print(True)\n",
    "    else:\n",
    "        print(False) \n",
    "\n",
    "x=input('Primer string: ')\n",
    "y=input('Segundo string: ')\n",
    "istrcmp(x,y)\n",
    "    "
   ]
  },
  {
   "cell_type": "markdown",
   "metadata": {},
   "source": [
    "## 14)"
   ]
  },
  {
   "cell_type": "code",
   "execution_count": null,
   "metadata": {},
   "outputs": [],
   "source": [
    "    print(2 < 3 and 3 > 1)    #True\n",
    "    print(2 < 3 or 3 > 1)     #True\n",
    "    print(2 < 3 or not 3 > 1) #True\n",
    "    print(2 < 3 and not 3 > 1)#False"
   ]
  },
  {
   "cell_type": "markdown",
   "metadata": {},
   "source": [
    "## 15)"
   ]
  },
  {
   "cell_type": "code",
   "execution_count": 1,
   "metadata": {},
   "outputs": [
    {
     "name": "stdout",
     "output_type": "stream",
     "text": [
      "True\n"
     ]
    }
   ],
   "source": [
    "    x = 4                   \n",
    "    y = 5                    \n",
    "    p = x < y or x < z\n",
    "    print(p)            # 4 < 5 (true) or 4 < z (false) (??Erro: z não foi definido)   \n",
    "    # Compila porque a condição necessária para que uma expressão com \"or\" seja   \n",
    "    # que \"a\" ou \"b\" seja verdadeiro. No caso, como 4<5 é true, a expressão é true,\n",
    "    # independentemente do \"z\" não ter sido definido."
   ]
  },
  {
   "cell_type": "markdown",
   "metadata": {},
   "source": [
    "## 16)"
   ]
  },
  {
   "cell_type": "code",
   "execution_count": null,
   "metadata": {},
   "outputs": [],
   "source": [
    "    True, False = False, True\n",
    "    print(True, False)\n",
    "    print(2 < 3)\n",
    "    #A saída seria erro\n",
    "    #True e False são booleanos, não é possível atribuir True=False\n",
    "    #nem False=True. É igual que dizer 0=1."
   ]
  },
  {
   "cell_type": "markdown",
   "metadata": {},
   "source": [
    "## 17)"
   ]
  },
  {
   "cell_type": "code",
   "execution_count": 3,
   "metadata": {},
   "outputs": [
    {
     "name": "stdout",
     "output_type": "stream",
     "text": [
      "2\n"
     ]
    }
   ],
   "source": [
    "    x = 2\n",
    "    if x == 2:\n",
    "        print(x)\n",
    "    else:\n",
    "        print(y)\n",
    "    \n",
    "    # Não vai dar erro porque é executado o que esta dentro do if e \n",
    "    # não chega a ser executada a parte do else.\n",
    "    # Se 'x' fosse diferente de 2, daria erro, porque seria executado o else\n",
    "    # e o 'y' não foi definido."
   ]
  },
  {
   "cell_type": "markdown",
   "metadata": {},
   "source": [
    "## 18)"
   ]
  },
  {
   "cell_type": "code",
   "execution_count": 2,
   "metadata": {},
   "outputs": [
    {
     "ename": "SyntaxError",
     "evalue": "invalid syntax (<ipython-input-2-ce5cbb9b6109>, line 5)",
     "output_type": "error",
     "traceback": [
      "\u001b[0;36m  File \u001b[0;32m\"<ipython-input-2-ce5cbb9b6109>\"\u001b[0;36m, line \u001b[0;32m5\u001b[0m\n\u001b[0;31m    x +\u001b[0m\n\u001b[0m       ^\u001b[0m\n\u001b[0;31mSyntaxError\u001b[0m\u001b[0;31m:\u001b[0m invalid syntax\n"
     ]
    }
   ],
   "source": [
    "    x = 2\n",
    "    if x == 2:\n",
    "        print(x)\n",
    "    else:\n",
    "        x +\n",
    "# x + é um erro de sintaxe, o certo seria, por exemplo, x += numero"
   ]
  },
  {
   "cell_type": "markdown",
   "metadata": {},
   "source": [
    "## 19)"
   ]
  },
  {
   "cell_type": "code",
   "execution_count": 2,
   "metadata": {},
   "outputs": [
    {
     "name": "stdout",
     "output_type": "stream",
     "text": [
      "[0, 1, [3]]\n",
      "[0, 1, [3, 4]]\n",
      "[0, 1, 2]\n"
     ]
    }
   ],
   "source": [
    "x = [0, 1, [2]]\n",
    "x[2][0] = 3      # O x[2] entra no index=2 da lista; o [0] entra no index=0 da sublista, ou seja no [2]\n",
    "print(x)         # O índice x[2][0] é substituído por 3, ficando: [0, 1, [3]]\n",
    "x[2].append(4)   # Adiciona um 4 no index=2 da lista, \n",
    "print(x)         # ficando: [0, 1, [3,4]]\n",
    "x[2] = 2         # O x[2] entra no index=2 da lista e o substitui por 2,\n",
    "print(x)         # ficando: [0, 1, 2]"
   ]
  }
 ],
 "metadata": {
  "kernelspec": {
   "display_name": "Python 3",
   "language": "python",
   "name": "python3"
  },
  "language_info": {
   "codemirror_mode": {
    "name": "ipython",
    "version": 3
   },
   "file_extension": ".py",
   "mimetype": "text/x-python",
   "name": "python",
   "nbconvert_exporter": "python",
   "pygments_lexer": "ipython3",
   "version": "3.8.3"
  }
 },
 "nbformat": 4,
 "nbformat_minor": 4
}
