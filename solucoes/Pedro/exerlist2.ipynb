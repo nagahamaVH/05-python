{
 "cells": [
  {
   "cell_type": "markdown",
   "metadata": {},
   "source": [
    "1) Escreva um programa que, dados 2 números diferentes (a e b), encontre o menor deles"
   ]
  },
  {
   "cell_type": "code",
   "execution_count": 8,
   "metadata": {},
   "outputs": [
    {
     "name": "stdout",
     "output_type": "stream",
     "text": [
      "Digite numero a: 1\n",
      "Digite numero b: 8888\n",
      "o maior numero é:  8888\n"
     ]
    }
   ],
   "source": [
    "a = input(\"Digite numero a: \")\n",
    "b = input(\"Digite numero b: \")\n",
    "\n",
    "if (a>b):\n",
    "    print(\"o maior numero é: \", a)\n",
    "else:\n",
    "    print (\"o maior numero é: \", b)"
   ]
  },
  {
   "cell_type": "markdown",
   "metadata": {},
   "source": [
    "2) Para doar sangue é necessário:\n",
    "\n",
    "* Ter entre 16 e 69 anos.\n",
    "* Pesar mais de 50 kg.\n",
    "* Estar descansado (ter dormido pelo menos 6 horas nas últimas 24 horas).\n",
    "Faça um programa que pergunte a idade, o peso e quanto dormiu nas últimas 24 h para uma pessoa e diga se ela pode doar sangue ou não."
   ]
  },
  {
   "cell_type": "code",
   "execution_count": 11,
   "metadata": {},
   "outputs": [
    {
     "name": "stdout",
     "output_type": "stream",
     "text": [
      "Digite idade: 65\n",
      "Digite peso: 60\n",
      "Digite qnts horas vc dormiu: 5\n",
      "Não pode doar sangue\n"
     ]
    }
   ],
   "source": [
    "idade = int(input(\"Digite idade: \"))\n",
    "peso = int(input(\"Digite peso: \"))\n",
    "hora = int(input(\"Digite qnts horas vc dormiu: \"))\n",
    "\n",
    "if (16 < idade <69 ) and (peso > 50) and (hora >=6):\n",
    "    print(\"Pode doar sangue\")\n",
    "else:\n",
    "    print(\"Não pode doar sangue\")"
   ]
  },
  {
   "cell_type": "code",
   "execution_count": null,
   "metadata": {},
   "outputs": [],
   "source": []
  },
  {
   "cell_type": "code",
   "execution_count": 7,
   "metadata": {},
   "outputs": [
    {
     "name": "stdout",
     "output_type": "stream",
     "text": [
      "Digite valor de a: 1\n",
      "Digite valor de b: 5\n",
      "Digite valor de c: 2\n",
      "17.0\n",
      "A equação de segundo grau possui 2 raizes reais\n"
     ]
    }
   ],
   "source": [
    "a = float(input(\"Digite valor de a: \"))\n",
    "b = float(input(\"Digite valor de b: \"))\n",
    "c = float(input(\"Digite valor de c: \"))\n",
    "delta = float(b ** 2 - 4*a*c)\n",
    "print(delta)\n",
    "if (delta > 0):\n",
    "    print(\"A equação de segundo grau possui 2 raizes reais\")\n",
    "elif (delta == 0):\n",
    "    print(\"A equação de segundo grau possui 1 raiz real\")\n",
    "else:\n",
    "    print(\"A equação de segundo grau não possui raizes reais\")\n",
    "\n"
   ]
  },
  {
   "cell_type": "code",
   "execution_count": 14,
   "metadata": {},
   "outputs": [
    {
     "name": "stdout",
     "output_type": "stream",
     "text": [
      "Digite o primeiro numero: 5\n",
      "Digite o segundo numero: 5\n",
      "5\n"
     ]
    }
   ],
   "source": [
    "num1 = int(input(\"Digite o primeiro numero: \"))\n",
    "num2 = int(input(\"Digite o segundo numero: \"))\n",
    "soma = num1+num2\n",
    "if (soma > 20):\n",
    "    print(soma+8)\n",
    "else:\n",
    "    print(soma-5)\n"
   ]
  },
  {
   "cell_type": "code",
   "execution_count": 20,
   "metadata": {},
   "outputs": [
    {
     "name": "stdout",
     "output_type": "stream",
     "text": [
      "Digite o primeiro numero: -4\n",
      "16.0\n"
     ]
    }
   ],
   "source": [
    "num1 = float(input(\"Digite o primeiro numero: \"))\n",
    "if (num1 >= 0):\n",
    "    print(num1 ** 1/2)\n",
    "else:\n",
    "    print(num1 ** 2)"
   ]
  },
  {
   "cell_type": "code",
   "execution_count": 4,
   "metadata": {},
   "outputs": [
    {
     "name": "stdout",
     "output_type": "stream",
     "text": [
      "Pontos:  2\n"
     ]
    }
   ],
   "source": [
    "def vel(speed):\n",
    "    if(speed < 70 ):\n",
    "        print(\"Ok\")\n",
    "    else:\n",
    "        if(speed >= 130 ):\n",
    "            print(\"Licen suspended\")\n",
    "        else:\n",
    "            acima = speed - 70\n",
    "            pontos = acima // 5\n",
    "            print(\"Pontos: \", pontos)\n",
    "    \n",
    "vel(80)"
   ]
  },
  {
   "cell_type": "code",
   "execution_count": 5,
   "metadata": {},
   "outputs": [
    {
     "name": "stdout",
     "output_type": "stream",
     "text": [
      "Licen suspended\n"
     ]
    }
   ],
   "source": [
    "vel(140)"
   ]
  },
  {
   "cell_type": "code",
   "execution_count": 6,
   "metadata": {},
   "outputs": [
    {
     "name": "stdout",
     "output_type": "stream",
     "text": [
      "Ok\n"
     ]
    }
   ],
   "source": [
    "vel(50)"
   ]
  },
  {
   "cell_type": "markdown",
   "metadata": {},
   "source": [
    "\n",
    "7) Leia um número inteiro entre 1 e 12 e escreva o mês correspondente. Caso o usuário digite um número fora desse intervalo, deverá aparecer uma mensagem informando que não existe mês com este número."
   ]
  },
  {
   "cell_type": "code",
   "execution_count": 18,
   "metadata": {},
   "outputs": [
    {
     "name": "stdout",
     "output_type": "stream",
     "text": [
      "Digite um numero do mês: 80\n",
      "não existe\n"
     ]
    }
   ],
   "source": [
    "def mes():\n",
    "    m = int(input(\"Digite um numero do mês: \"))\n",
    "    me = ['Janeiro', 'Fevereiro', 'Março', 'Abril', 'Maio', 'Junho', 'Julho', 'Agosto','Setembro', 'Outubro', 'Novembro','Dezembro']\n",
    "    if(m >= 1 and m <= 12):\n",
    "        print(me[(m-1)])\n",
    "    else:\n",
    "        print(\"não existe\")\n",
    "mes()"
   ]
  },
  {
   "cell_type": "code",
   "execution_count": 15,
   "metadata": {},
   "outputs": [],
   "source": [
    "def show_stars(rows):\n",
    "    if(rows == 5):\n",
    "        for rows in range(5):\n",
    "            for j in range(rows+1):\n",
    "                print(\"*\", end =\"\")\n",
    "            print(\"\\r\")\n",
    "    else:\n",
    "        print(\"digite 5\")"
   ]
  },
  {
   "cell_type": "code",
   "execution_count": 29,
   "metadata": {},
   "outputs": [
    {
     "name": "stdout",
     "output_type": "stream",
     "text": [
      "*\r\n",
      "**\r\n",
      "***\r\n",
      "****\r\n",
      "*****\r\n"
     ]
    }
   ],
   "source": [
    "show_stars(5)"
   ]
  },
  {
   "cell_type": "code",
   "execution_count": 30,
   "metadata": {},
   "outputs": [
    {
     "data": {
      "text/plain": [
       "range(0, 5)"
      ]
     },
     "execution_count": 30,
     "metadata": {},
     "output_type": "execute_result"
    }
   ],
   "source": [
    "range(5)"
   ]
  },
  {
   "cell_type": "code",
   "execution_count": 20,
   "metadata": {},
   "outputs": [],
   "source": [
    "def showNumbers(limit):\n",
    "    for i in range(limit):\n",
    "        resto = i % 2\n",
    "        if resto == 0:\n",
    "            print(i, \"par\")\n",
    "        else:\n",
    "            print(i, \"impar\")\n",
    "        #print(i)"
   ]
  },
  {
   "cell_type": "code",
   "execution_count": 22,
   "metadata": {},
   "outputs": [
    {
     "name": "stdout",
     "output_type": "stream",
     "text": [
      "0 par\n",
      "1 impar\n"
     ]
    }
   ],
   "source": [
    "showNumbers(2)"
   ]
  },
  {
   "cell_type": "markdown",
   "metadata": {},
   "source": [
    "\n",
    "10) Escreva uma função que retorna a soma de múltiplos de 3 e 5 entre 0 e limit (parâmetro). Por exemplo, se limite for 20, deve retornar a soma de 3, 5, 6, 9, 10, 12, 15, 18, 20."
   ]
  },
  {
   "cell_type": "code",
   "execution_count": 45,
   "metadata": {},
   "outputs": [],
   "source": [
    "def tot(limit):\n",
    "    l3 = []\n",
    "    l5 = []\n",
    "    for i in range(limit+1):\n",
    "        if (i % 3 == 0):\n",
    "            l3.extend([i])\n",
    "        elif (i % 5 == 0):\n",
    "            l5.extend([i])\n",
    "    ltot = l3 + l5\n",
    "    print(sum(ltot))\n",
    "            "
   ]
  },
  {
   "cell_type": "code",
   "execution_count": 47,
   "metadata": {},
   "outputs": [
    {
     "name": "stdout",
     "output_type": "stream",
     "text": [
      "8\n"
     ]
    }
   ],
   "source": [
    "tot(5)"
   ]
  },
  {
   "cell_type": "markdown",
   "metadata": {},
   "source": [
    "11) Escreva uma funcão que imprima todos os números primos entre 0 e limit (um parâmetro)."
   ]
  },
  {
   "cell_type": "code",
   "execution_count": 16,
   "metadata": {},
   "outputs": [],
   "source": [
    "def primos(pr) :\n",
    "    for i in range(2,pr+1):\n",
    "        for j in range(2,i):\n",
    "            if(i % j == 0):\n",
    "                    break\n",
    "        else:\n",
    "            print(i)"
   ]
  },
  {
   "cell_type": "code",
   "execution_count": 18,
   "metadata": {},
   "outputs": [
    {
     "name": "stdout",
     "output_type": "stream",
     "text": [
      "2\n",
      "3\n",
      "5\n",
      "7\n",
      "11\n",
      "13\n",
      "17\n",
      "19\n"
     ]
    }
   ],
   "source": [
    "primos(20)"
   ]
  },
  {
   "cell_type": "markdown",
   "metadata": {},
   "source": [
    "12) O python tem uma implementacão padrão de uma funcão sum para achar a soma dos elementos de uma lista, faca sua própria implementacão da funcão"
   ]
  },
  {
   "cell_type": "code",
   "execution_count": 25,
   "metadata": {},
   "outputs": [
    {
     "name": "stdout",
     "output_type": "stream",
     "text": [
      "6\n"
     ]
    }
   ],
   "source": [
    "def somalista(numeros):\n",
    "    soma = 0\n",
    "    for i in numeros:\n",
    "        soma = soma + i\n",
    "    return soma\n",
    "\n",
    "print(somalista([1,2, 3]))\n"
   ]
  },
  {
   "cell_type": "markdown",
   "metadata": {},
   "source": [
    "13) O que acontece quando a sua funcão sum é chamaca com uma lista de strings? Voce consegue fazer a sua funcao funcionar com strings também?"
   ]
  },
  {
   "cell_type": "code",
   "execution_count": 21,
   "metadata": {},
   "outputs": [
    {
     "ename": "TypeError",
     "evalue": "unsupported operand type(s) for +: 'int' and 'str'",
     "output_type": "error",
     "traceback": [
      "\u001b[0;31m---------------------------------------------------------------------------\u001b[0m",
      "\u001b[0;31mTypeError\u001b[0m                                 Traceback (most recent call last)",
      "\u001b[0;32m<ipython-input-21-6b2d81710e0c>\u001b[0m in \u001b[0;36m<module>\u001b[0;34m\u001b[0m\n\u001b[1;32m      1\u001b[0m \u001b[0ml\u001b[0m \u001b[0;34m=\u001b[0m \u001b[0;34m[\u001b[0m\u001b[0;34m\"hello\"\u001b[0m\u001b[0;34m,\u001b[0m \u001b[0;34m\"world\"\u001b[0m\u001b[0;34m]\u001b[0m\u001b[0;34m\u001b[0m\u001b[0;34m\u001b[0m\u001b[0m\n\u001b[0;32m----> 2\u001b[0;31m \u001b[0msum\u001b[0m\u001b[0;34m(\u001b[0m\u001b[0ml\u001b[0m\u001b[0;34m)\u001b[0m\u001b[0;34m\u001b[0m\u001b[0;34m\u001b[0m\u001b[0m\n\u001b[0m",
      "\u001b[0;31mTypeError\u001b[0m: unsupported operand type(s) for +: 'int' and 'str'"
     ]
    }
   ],
   "source": [
    "l = [\"hello\", \"world\"]\n",
    "sum(l)\n"
   ]
  },
  {
   "cell_type": "markdown",
   "metadata": {},
   "source": [
    "14): Implemente uma funcão product, para computar o produto de uma lista de números."
   ]
  },
  {
   "cell_type": "code",
   "execution_count": 47,
   "metadata": {},
   "outputs": [],
   "source": [
    "def product(lista):\n",
    "    produto = 1\n",
    "    for i in lista:\n",
    "        produto *= int(i) \n",
    "    return produto\n",
    "   "
   ]
  },
  {
   "cell_type": "code",
   "execution_count": 51,
   "metadata": {},
   "outputs": [
    {
     "data": {
      "text/plain": [
       "0"
      ]
     },
     "execution_count": 51,
     "metadata": {},
     "output_type": "execute_result"
    }
   ],
   "source": [
    "product([0,1,2,3])"
   ]
  },
  {
   "cell_type": "markdown",
   "metadata": {},
   "source": [
    "15) Implemente uma funcão que calcula o fatorial de um número:\n"
   ]
  },
  {
   "cell_type": "code",
   "execution_count": 53,
   "metadata": {},
   "outputs": [],
   "source": [
    "def factorial(n):\n",
    "    f = 1\n",
    "    while (n > 1):\n",
    "        f *= n\n",
    "        n -= 1\n",
    "    print(f)\n",
    "    "
   ]
  },
  {
   "cell_type": "code",
   "execution_count": 55,
   "metadata": {},
   "outputs": [
    {
     "name": "stdout",
     "output_type": "stream",
     "text": [
      "24\n"
     ]
    }
   ],
   "source": [
    "factorial(4)"
   ]
  },
  {
   "cell_type": "markdown",
   "metadata": {},
   "source": [
    "16) Escreva um programa reverse.py para imprimir linhas de um arquivo na ordem inversa."
   ]
  },
  {
   "cell_type": "code",
   "execution_count": 73,
   "metadata": {},
   "outputs": [],
   "source": [
    "writeFile = open (\"/home/pedronunes/reverse.txt\", \"r\")"
   ]
  },
  {
   "cell_type": "code",
   "execution_count": 74,
   "metadata": {},
   "outputs": [
    {
     "name": "stdout",
     "output_type": "stream",
     "text": [
      "She sells seashells on the seashore;\r\n",
      "The shells that she sells are seashells I'm sure.\r\n",
      "So if she sells seashells on the seashore,\r\n",
      "I'm sure that the shells are seashore shells.\r\n"
     ]
    }
   ],
   "source": [
    "!cat /home/pedronunes/reverse.txt"
   ]
  },
  {
   "cell_type": "code",
   "execution_count": 75,
   "metadata": {},
   "outputs": [
    {
     "name": "stdout",
     "output_type": "stream",
     "text": [
      "I'm sure that the shells are seashore shells.\n",
      "So if she sells seashells on the seashore,\n",
      "The shells that she sells are seashells I'm sure.\n",
      "She sells seashells on the seashore;\n"
     ]
    }
   ],
   "source": [
    "for line in reversed(list(open(\"/home/pedronunes/reverse.txt\"))):\n",
    "      print(line.rstrip())"
   ]
  },
  {
   "cell_type": "markdown",
   "metadata": {},
   "source": [
    "17) Escreva um programa wrap.py que recebe o nome de um arquivo e um comprimento, e quebra as linhas com comprimento maior que o argumento."
   ]
  },
  {
   "cell_type": "code",
   "execution_count": 94,
   "metadata": {},
   "outputs": [],
   "source": [
    "import textwrap"
   ]
  },
  {
   "cell_type": "code",
   "execution_count": 98,
   "metadata": {},
   "outputs": [
    {
     "name": "stdout",
     "output_type": "stream",
     "text": [
      "She sells\n",
      "seashells\n",
      "on the\n",
      "seashore;\n",
      "The shells\n",
      "that she\n",
      "sells are\n",
      "seashells\n",
      "I'm sure.\n",
      "So if she\n",
      "sells\n",
      "seashells\n",
      "on the\n",
      "seashore,\n",
      "I'm sure\n",
      "that the\n",
      "shells are\n",
      "seashore\n",
      "shells.\n"
     ]
    }
   ],
   "source": [
    "with open('/home/pedronunes/reverse.txt') as f:\n",
    "    wrapper = textwrap.TextWrapper(width=10)\n",
    "    \n",
    "    lista = wrapper.wrap(text=f.read())\n",
    "    for element in lista: \n",
    "        print(element)"
   ]
  },
  {
   "cell_type": "markdown",
   "metadata": {},
   "source": [
    "18) Escreva um programa que conta a frequência de cada caracter em um arquivo."
   ]
  },
  {
   "cell_type": "code",
   "execution_count": 99,
   "metadata": {},
   "outputs": [],
   "source": [
    "from collections import Counter"
   ]
  },
  {
   "cell_type": "code",
   "execution_count": 104,
   "metadata": {},
   "outputs": [
    {
     "name": "stdout",
     "output_type": "stream",
     "text": [
      "Counter({'s': 31, 'e': 29, ' ': 27, 'h': 18, 'l': 18, 'a': 10, 't': 7, 'r': 7, 'o': 6, 'S': 2, 'n': 2, 'I': 2, \"'\": 2, 'm': 2, 'u': 2, '.': 2, ';': 1, 'T': 1, 'i': 1, 'f': 1, ',': 1})\n"
     ]
    }
   ],
   "source": [
    "with open('/home/pedronunes/reverse.txt') as f:\n",
    "    c = Counter()\n",
    "    for line in f:\n",
    "        c.update(line.rstrip())\n",
    "print(c)\n",
    "        "
   ]
  },
  {
   "cell_type": "code",
   "execution_count": null,
   "metadata": {},
   "outputs": [],
   "source": []
  }
 ],
 "metadata": {
  "kernelspec": {
   "display_name": "Python 3",
   "language": "python",
   "name": "python3"
  },
  "language_info": {
   "codemirror_mode": {
    "name": "ipython",
    "version": 3
   },
   "file_extension": ".py",
   "mimetype": "text/x-python",
   "name": "python",
   "nbconvert_exporter": "python",
   "pygments_lexer": "ipython3",
   "version": "3.8.5"
  }
 },
 "nbformat": 4,
 "nbformat_minor": 4
}
