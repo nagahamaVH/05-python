{
 "cells": [
  {
   "cell_type": "markdown",
   "metadata": {},
   "source": [
    "1) Escreva um programa que, dados 2 números diferentes (a e b), encontre o menor deles."
   ]
  },
  {
   "cell_type": "code",
   "execution_count": 2,
   "metadata": {},
   "outputs": [],
   "source": [
    "def diferente(a , b):\n",
    "    if (a < b):\n",
    "        print (a)\n",
    "    elif (b < a):\n",
    "        print (b)\n",
    "    else:\n",
    "        print (\"Você digitou números iguais!\")"
   ]
  },
  {
   "cell_type": "markdown",
   "metadata": {},
   "source": [
    "Alguns exemplos do código acima em funcionamento:"
   ]
  },
  {
   "cell_type": "code",
   "execution_count": 3,
   "metadata": {},
   "outputs": [
    {
     "name": "stdout",
     "output_type": "stream",
     "text": [
      "5\n"
     ]
    }
   ],
   "source": [
    "diferente (5, 7)"
   ]
  },
  {
   "cell_type": "code",
   "execution_count": 4,
   "metadata": {},
   "outputs": [
    {
     "name": "stdout",
     "output_type": "stream",
     "text": [
      "73\n"
     ]
    }
   ],
   "source": [
    "diferente (84, 73)"
   ]
  },
  {
   "cell_type": "code",
   "execution_count": 5,
   "metadata": {},
   "outputs": [
    {
     "name": "stdout",
     "output_type": "stream",
     "text": [
      "Você digitou números iguais!\n"
     ]
    }
   ],
   "source": [
    "diferente (57, 57)"
   ]
  },
  {
   "cell_type": "markdown",
   "metadata": {},
   "source": [
    "2) Para doar sangue é necessário:\n",
    "* Ter entre 16 e 69 anos.\n",
    "* Pesar mais de 50 kg.\n",
    "* Estar descansado (ter dormido pelo menos 6 horas nas últimas 24 horas).\n",
    "\n",
    "Faça um programa que pergunte a idade, o peso e quanto dormiu nas últimas 24 h para uma pessoa e diga se ela pode doar sangue ou não."
   ]
  },
  {
   "cell_type": "code",
   "execution_count": 19,
   "metadata": {},
   "outputs": [],
   "source": [
    "def doar():\n",
    "    i = int(input(\"Digite sua idade em anos: \"))\n",
    "    p = float(input(\"Digite seu peso em kg: \"))\n",
    "    s = int(input(\"Digite quantas horas (inteiras) você dormiu nas últimas 24h: \"))\n",
    "    if (i >= 16 and i <= 69 and p > 50 and s >= 6):\n",
    "        print(\"Você pode doar sangue!\")\n",
    "    else:\n",
    "        print(\"Você não pode doar sangue!\")\n",
    "        "
   ]
  },
  {
   "cell_type": "code",
   "execution_count": 18,
   "metadata": {},
   "outputs": [
    {
     "name": "stdout",
     "output_type": "stream",
     "text": [
      "Digite sua idade em anos: 23\n",
      "Digite seu peso em kg: 67.5\n",
      "Digite quantas horas você dormiu nas últimas 24h: 8\n",
      "Você pode doar sangue!\n"
     ]
    }
   ],
   "source": [
    "doar()"
   ]
  },
  {
   "cell_type": "markdown",
   "metadata": {},
   "source": [
    "3) Considere uma equação do segundo grau f(x)=a⋅x2+b⋅x+c. A partir dos coeficientes, determine se a equação possui duas raízes reais, uma, ou se não possui."
   ]
  },
  {
   "cell_type": "code",
   "execution_count": 22,
   "metadata": {},
   "outputs": [],
   "source": [
    "def raiz():\n",
    "    a = float(input(\"Digite o coeficiente a que acompanha o x²: \"))\n",
    "    b = float(input(\"Digite o coeficiente b que acompanha o x: \"))\n",
    "    c = float(input(\"Digite o coeficiente c termo independente da equação: \"))\n",
    "    if (((b*b)-4*a*c) < 0):\n",
    "        print(\"Não possui raiz real\")\n",
    "    elif (((b*b)-4*a*c) > 0):\n",
    "        print(\"Possui duas raízes reais\")\n",
    "    else:\n",
    "        print(\"Possui uma raiz real\")"
   ]
  },
  {
   "cell_type": "markdown",
   "metadata": {},
   "source": [
    "Alguns exemplos do código acima em funcionamento:"
   ]
  },
  {
   "cell_type": "code",
   "execution_count": 23,
   "metadata": {},
   "outputs": [
    {
     "name": "stdout",
     "output_type": "stream",
     "text": [
      "Digite o coeficiente a que acompanha o x²: 1\n",
      "Digite o coeficiente b que acompanha o x: 4\n",
      "Digite o coeficiente c termo independente da equação: 5\n",
      "Não possui raiz real\n"
     ]
    }
   ],
   "source": [
    "raiz()"
   ]
  },
  {
   "cell_type": "code",
   "execution_count": 24,
   "metadata": {},
   "outputs": [
    {
     "name": "stdout",
     "output_type": "stream",
     "text": [
      "Digite o coeficiente a que acompanha o x²: 4\n",
      "Digite o coeficiente b que acompanha o x: 4\n",
      "Digite o coeficiente c termo independente da equação: 1\n",
      "Possui uma raiz real\n"
     ]
    }
   ],
   "source": [
    "raiz()"
   ]
  },
  {
   "cell_type": "code",
   "execution_count": 27,
   "metadata": {},
   "outputs": [
    {
     "name": "stdout",
     "output_type": "stream",
     "text": [
      "Digite o coeficiente a que acompanha o x²: 1\n",
      "Digite o coeficiente b que acompanha o x: -5\n",
      "Digite o coeficiente c termo independente da equação: 6\n",
      "Possui duas raízes reais\n"
     ]
    }
   ],
   "source": [
    "raiz()"
   ]
  },
  {
   "cell_type": "markdown",
   "metadata": {},
   "source": [
    "4) Leia dois números e efetue a adição. Caso o valor somado seja maior que 20, este deverá ser apresentado somando-se a ele mais 8; caso o valor somado seja menor ou igual a 20, este deverá ser apresentado subtraindo-se 5."
   ]
  },
  {
   "cell_type": "code",
   "execution_count": 28,
   "metadata": {},
   "outputs": [],
   "source": [
    "def soma():\n",
    "    a = float(input(\"Digite um número: \"))\n",
    "    b = float(input(\"Digite mais um número: \"))\n",
    "    so = a + b\n",
    "    if (so > 20):\n",
    "        print(so + 8)\n",
    "    else:\n",
    "        print(so - 5)"
   ]
  },
  {
   "cell_type": "code",
   "execution_count": null,
   "metadata": {},
   "outputs": [],
   "source": [
    "Alguns exemplos do código acima em funcionamento:"
   ]
  },
  {
   "cell_type": "code",
   "execution_count": 29,
   "metadata": {},
   "outputs": [
    {
     "name": "stdout",
     "output_type": "stream",
     "text": [
      "Digite um número: 12\n",
      "Digite mais um número: 9\n",
      "29.0\n"
     ]
    }
   ],
   "source": [
    "soma()"
   ]
  },
  {
   "cell_type": "code",
   "execution_count": 30,
   "metadata": {},
   "outputs": [
    {
     "name": "stdout",
     "output_type": "stream",
     "text": [
      "Digite um número: 8\n",
      "Digite mais um número: 5\n",
      "8.0\n"
     ]
    }
   ],
   "source": [
    "soma()"
   ]
  },
  {
   "cell_type": "markdown",
   "metadata": {},
   "source": [
    "5) Leia um número e imprima a raiz quadrada do número caso ele seja positivo ou igual a zero e o quadrado do número caso ele seja negativo."
   ]
  },
  {
   "cell_type": "code",
   "execution_count": 32,
   "metadata": {},
   "outputs": [],
   "source": [
    "import math "
   ]
  },
  {
   "cell_type": "code",
   "execution_count": 34,
   "metadata": {},
   "outputs": [],
   "source": [
    "def ex5():\n",
    "    a = float(input(\"Digite um número: \"))\n",
    "    if (a < 0):\n",
    "        print(a*a)\n",
    "    else:\n",
    "        print(math.sqrt(a))"
   ]
  },
  {
   "cell_type": "markdown",
   "metadata": {},
   "source": [
    "Alguns exemplos do código acima em funcionamento:"
   ]
  },
  {
   "cell_type": "code",
   "execution_count": 35,
   "metadata": {},
   "outputs": [
    {
     "name": "stdout",
     "output_type": "stream",
     "text": [
      "Digite um número: 144\n",
      "12.0\n"
     ]
    }
   ],
   "source": [
    "ex5()"
   ]
  },
  {
   "cell_type": "code",
   "execution_count": 36,
   "metadata": {},
   "outputs": [
    {
     "name": "stdout",
     "output_type": "stream",
     "text": [
      "Digite um número: -9\n",
      "81.0\n"
     ]
    }
   ],
   "source": [
    "ex5()"
   ]
  },
  {
   "cell_type": "code",
   "execution_count": 37,
   "metadata": {},
   "outputs": [
    {
     "name": "stdout",
     "output_type": "stream",
     "text": [
      "Digite um número: 58.66\n",
      "7.6589816555466435\n"
     ]
    }
   ],
   "source": [
    "ex5()"
   ]
  },
  {
   "cell_type": "markdown",
   "metadata": {},
   "source": [
    "6) Escreva uma funcão para verificar a velocidade de motoristas. Essa funcão deve ter um parametro: speed.\n",
    "1.  Se speed menor que 70, deve imprimir “Ok”.\n",
    "2.  Caso contrário, para cada 5km/h acima do limite (70), o radar deve aplicar um ponto na carteira do motorista, imprimindo quantos pontos foram retirados. Por exemplo, se speed é 80, Deve imprimir: “Pontos: 2”.\n",
    "3.  Se o motorista tomar mais que 12 pontos, a funcão deve imprimir: “Licen suspended”"
   ]
  },
  {
   "cell_type": "code",
   "execution_count": 40,
   "metadata": {},
   "outputs": [],
   "source": [
    "def velocidade():\n",
    "    speed = float(input(\"Digite a velocidade do motorista em km/h: \"))\n",
    "    if (speed <= 70):\n",
    "        print(\"Ok\")\n",
    "    else:\n",
    "        pon = int(((speed-70)/5))\n",
    "        if (pon <= 12):\n",
    "            print(\"Pontos: \", pon)\n",
    "        else:\n",
    "            print(\"Licen suspended\")"
   ]
  },
  {
   "cell_type": "code",
   "execution_count": null,
   "metadata": {},
   "outputs": [],
   "source": [
    "Alguns exemplos do código acima em funcionamento:"
   ]
  },
  {
   "cell_type": "code",
   "execution_count": 41,
   "metadata": {},
   "outputs": [
    {
     "name": "stdout",
     "output_type": "stream",
     "text": [
      "Digite a velocidade do motorista em km/h: 80\n",
      "Pontos:  2\n"
     ]
    }
   ],
   "source": [
    "velocidade()"
   ]
  },
  {
   "cell_type": "code",
   "execution_count": 42,
   "metadata": {},
   "outputs": [
    {
     "name": "stdout",
     "output_type": "stream",
     "text": [
      "Digite a velocidade do motorista em km/h: 300\n",
      "Licen suspended\n"
     ]
    }
   ],
   "source": [
    "velocidade()"
   ]
  },
  {
   "cell_type": "code",
   "execution_count": 43,
   "metadata": {},
   "outputs": [
    {
     "name": "stdout",
     "output_type": "stream",
     "text": [
      "Digite a velocidade do motorista em km/h: 60\n",
      "Ok\n"
     ]
    }
   ],
   "source": [
    "velocidade()"
   ]
  },
  {
   "cell_type": "markdown",
   "metadata": {},
   "source": [
    "7) Leia um número inteiro entre 1 e 12 e escreva o mês correspondente. Caso o usuário digite um número fora desse intervalo, deverá aparecer uma mensagem informando que não existe mês com este número."
   ]
  },
  {
   "cell_type": "code",
   "execution_count": 9,
   "metadata": {},
   "outputs": [],
   "source": [
    "def mes():\n",
    "    m = int(input(\"Digite o número do mês: \"))\n",
    "    ano = ['Janeiro', 'Fevereiro', 'Março', 'Abril', 'Maio', 'Junho', 'Julho', 'Agosto','Setembro', 'Outubro', 'Novembro','Dezembro']\n",
    "    if (m >= 1 and m <= 12):\n",
    "        print(ano[(m-1)])\n",
    "    else:\n",
    "        print(\"Não existe mês com esse número\")"
   ]
  },
  {
   "cell_type": "code",
   "execution_count": 11,
   "metadata": {},
   "outputs": [
    {
     "name": "stdout",
     "output_type": "stream",
     "text": [
      "Digite o número do mês: 1\n",
      "Janeiro\n"
     ]
    }
   ],
   "source": [
    "mes()"
   ]
  },
  {
   "cell_type": "markdown",
   "metadata": {},
   "source": [
    "8) Escreva uma funcão show_stars(rows). Se rows for 5, deve-se imprimir o seguinte:\n",
    "\n",
    "```\n",
    "*\n",
    "**\n",
    "***\n",
    "****\n",
    "*****\n",
    "```"
   ]
  },
  {
   "cell_type": "code",
   "execution_count": 31,
   "metadata": {},
   "outputs": [
    {
     "name": "stdout",
     "output_type": "stream",
     "text": [
      "* \r\n",
      "* * \r\n",
      "* * * \r\n",
      "* * * * \r\n",
      "* * * * * \r\n"
     ]
    }
   ],
   "source": [
    "def show_stars(rows):\n",
    "    for i in range(0, rows):\n",
    "        for j in range(0, i+1):\n",
    "            print(\"* \", end =\"\") \n",
    "        print(\"\\r\") \n",
    "  \n",
    "\n",
    "show_stars(5) "
   ]
  },
  {
   "cell_type": "markdown",
   "metadata": {},
   "source": [
    "9) Escreva uma funcão chamada showNumbers, que recebe o parâmetro limit. A funcão deve imprimir todos os números entre 0 e limit com uma label para identificar se o número é par ou ímparPor exemplo, se o limite for 3, deve-se imprimir:\n",
    "*   0 PAR\n",
    "*   1 IMPAR\n",
    "*   2 PAR\n",
    "*   3 IMPAR"
   ]
  },
  {
   "cell_type": "code",
   "execution_count": 21,
   "metadata": {},
   "outputs": [
    {
     "name": "stdout",
     "output_type": "stream",
     "text": [
      "0 PAR\n",
      "1 ÍMPAR\n",
      "2 PAR\n",
      "3 ÍMPAR\n",
      "4 PAR\n",
      "5 ÍMPAR\n"
     ]
    }
   ],
   "source": [
    "def showNumbers(n):\n",
    "    for i in range(0, (n+1)):\n",
    "        if (i % 2 == 0):\n",
    "            print (i, \"PAR\")\n",
    "        else:\n",
    "            print (i, \"ÍMPAR\")\n",
    "  \n",
    "\n",
    "showNumbers(5) "
   ]
  },
  {
   "cell_type": "markdown",
   "metadata": {},
   "source": [
    "10) Escreva uma função que retorna a soma de múltiplos de 3 e 5 entre 0 e limit (parâmetro). Por exemplo, se limite for 20, deve retornar a soma de 3, 5, 6, 9, 10, 12, 15, 18, 20."
   ]
  },
  {
   "cell_type": "code",
   "execution_count": 32,
   "metadata": {},
   "outputs": [
    {
     "name": "stdout",
     "output_type": "stream",
     "text": [
      "98\n"
     ]
    }
   ],
   "source": [
    "def mult(n):\n",
    "    l1 = []\n",
    "    l2 = []\n",
    "    for i in range (0, (n+1)):\n",
    "        if (i % 3 == 0):\n",
    "            l1.extend([i])\n",
    "        elif (i % 5 == 0):\n",
    "            l2.extend([i])\n",
    "    l3 = l1 + l2\n",
    "    print(sum(l3))\n",
    "    \n",
    "mult(20)"
   ]
  },
  {
   "cell_type": "markdown",
   "metadata": {},
   "source": [
    "11) Escreva uma funcão que imprima todos os números primos entre 0 e limit (um parâmetro)."
   ]
  },
  {
   "cell_type": "code",
   "execution_count": 33,
   "metadata": {},
   "outputs": [
    {
     "ename": "SyntaxError",
     "evalue": "invalid syntax (<ipython-input-33-e29a84169895>, line 2)",
     "output_type": "error",
     "traceback": [
      "\u001b[0;36m  File \u001b[0;32m\"<ipython-input-33-e29a84169895>\"\u001b[0;36m, line \u001b[0;32m2\u001b[0m\n\u001b[0;31m    while\u001b[0m\n\u001b[0m         ^\u001b[0m\n\u001b[0;31mSyntaxError\u001b[0m\u001b[0;31m:\u001b[0m invalid syntax\n"
     ]
    }
   ],
   "source": [
    "def primo(n):\n",
    "    while"
   ]
  },
  {
   "cell_type": "code",
   "execution_count": 50,
   "metadata": {},
   "outputs": [
    {
     "name": "stdout",
     "output_type": "stream",
     "text": [
      "Digite o número limite: 20\n",
      "2\n",
      "3\n",
      "5\n",
      "7\n",
      "11\n",
      "13\n",
      "17\n",
      "19\n"
     ]
    }
   ],
   "source": [
    "lower = 2  \n",
    "upper = int(input(\"Digite o número limite: \"))  \n",
    "  \n",
    "for num in range(lower,upper + 1):  \n",
    "     \n",
    "       for i in range(2,num):  \n",
    "           if (num % i) == 0:  \n",
    "               break  \n",
    "       else:  \n",
    "           print(num)  \n"
   ]
  },
  {
   "cell_type": "markdown",
   "metadata": {},
   "source": [
    "12) O python tem uma implementacão padrão de uma funcão sum para achar a soma dos elementos de uma lista, faca sua própria implementacão da funcão\n"
   ]
  },
  {
   "cell_type": "code",
   "execution_count": 123,
   "metadata": {},
   "outputs": [
    {
     "name": "stdout",
     "output_type": "stream",
     "text": [
      "6\n"
     ]
    }
   ],
   "source": [
    "def soma(list):\n",
    "    result= 0\n",
    "    for element in list:\n",
    "        result += int(element)\n",
    "    return result\n",
    "\n",
    "print(soma([1,2,3]))"
   ]
  },
  {
   "cell_type": "markdown",
   "metadata": {},
   "source": [
    "13) O que acontece quando a sua funcão sum é chamaca com uma lista de strings? Voce consegue fazer a sua funcao funcionar com strings também?"
   ]
  },
  {
   "cell_type": "code",
   "execution_count": 117,
   "metadata": {},
   "outputs": [
    {
     "ename": "ValueError",
     "evalue": "invalid literal for int() with base 10: 'hello'",
     "output_type": "error",
     "traceback": [
      "\u001b[0;31m---------------------------------------------------------------------------\u001b[0m",
      "\u001b[0;31mValueError\u001b[0m                                Traceback (most recent call last)",
      "\u001b[0;32m<ipython-input-117-2bcaf684fa54>\u001b[0m in \u001b[0;36m<module>\u001b[0;34m\u001b[0m\n\u001b[1;32m      1\u001b[0m \u001b[0;31m## Rodando como está\u001b[0m\u001b[0;34m\u001b[0m\u001b[0;34m\u001b[0m\u001b[0;34m\u001b[0m\u001b[0m\n\u001b[0;32m----> 2\u001b[0;31m \u001b[0msoma\u001b[0m\u001b[0;34m(\u001b[0m\u001b[0;34m[\u001b[0m\u001b[0;34m'hello'\u001b[0m\u001b[0;34m,\u001b[0m \u001b[0;34m'world'\u001b[0m\u001b[0;34m]\u001b[0m\u001b[0;34m)\u001b[0m\u001b[0;34m\u001b[0m\u001b[0;34m\u001b[0m\u001b[0m\n\u001b[0m",
      "\u001b[0;32m<ipython-input-116-b4eb25846165>\u001b[0m in \u001b[0;36msoma\u001b[0;34m(list)\u001b[0m\n\u001b[1;32m      2\u001b[0m     \u001b[0mresult\u001b[0m\u001b[0;34m=\u001b[0m \u001b[0;36m0\u001b[0m\u001b[0;34m\u001b[0m\u001b[0;34m\u001b[0m\u001b[0m\n\u001b[1;32m      3\u001b[0m     \u001b[0;32mfor\u001b[0m \u001b[0melement\u001b[0m \u001b[0;32min\u001b[0m \u001b[0mlist\u001b[0m\u001b[0;34m:\u001b[0m\u001b[0;34m\u001b[0m\u001b[0;34m\u001b[0m\u001b[0m\n\u001b[0;32m----> 4\u001b[0;31m         \u001b[0mresult\u001b[0m \u001b[0;34m+=\u001b[0m \u001b[0mint\u001b[0m\u001b[0;34m(\u001b[0m\u001b[0melement\u001b[0m\u001b[0;34m)\u001b[0m\u001b[0;34m\u001b[0m\u001b[0;34m\u001b[0m\u001b[0m\n\u001b[0m\u001b[1;32m      5\u001b[0m     \u001b[0;32mreturn\u001b[0m \u001b[0mresult\u001b[0m\u001b[0;34m\u001b[0m\u001b[0;34m\u001b[0m\u001b[0m\n\u001b[1;32m      6\u001b[0m \u001b[0;34m\u001b[0m\u001b[0m\n",
      "\u001b[0;31mValueError\u001b[0m: invalid literal for int() with base 10: 'hello'"
     ]
    }
   ],
   "source": [
    "## Rodando como está\n",
    "soma(['hello', 'world'])"
   ]
  },
  {
   "cell_type": "code",
   "execution_count": 118,
   "metadata": {},
   "outputs": [
    {
     "name": "stdout",
     "output_type": "stream",
     "text": [
      "helloworld\n"
     ]
    }
   ],
   "source": [
    "## Consertando\n",
    "def soma(list):\n",
    "    result= ''\n",
    "    for element in list:\n",
    "        result += str(element)\n",
    "    return result\n",
    "\n",
    "print(soma(['hello', 'world']))"
   ]
  },
  {
   "cell_type": "markdown",
   "metadata": {},
   "source": [
    "14) Implemente uma funcão product, para computar o produto de uma lista de números."
   ]
  },
  {
   "cell_type": "code",
   "execution_count": 128,
   "metadata": {},
   "outputs": [
    {
     "data": {
      "text/plain": [
       "6"
      ]
     },
     "execution_count": 128,
     "metadata": {},
     "output_type": "execute_result"
    }
   ],
   "source": [
    "def product(list):\n",
    "    result = 1\n",
    "    for element in list:\n",
    "        result *= int(element)\n",
    "    return result\n",
    "\n",
    "product([1,2,3])"
   ]
  },
  {
   "cell_type": "markdown",
   "metadata": {},
   "source": [
    "15) Implemente uma funcão que calcula o fatorial de um número:\n",
    "\n",
    "    >>> factorial(4)\n",
    "    24"
   ]
  },
  {
   "cell_type": "code",
   "execution_count": 10,
   "metadata": {},
   "outputs": [
    {
     "name": "stdout",
     "output_type": "stream",
     "text": [
      "24\n"
     ]
    }
   ],
   "source": [
    "def fatorial(n):\n",
    "    f = 1\n",
    "    while (n >1):\n",
    "        f *= n\n",
    "        n = n -1\n",
    "    print(f)\n",
    "    \n",
    "    \n",
    "fatorial(4)"
   ]
  },
  {
   "cell_type": "markdown",
   "metadata": {},
   "source": [
    "16) Escreva um programa reverse.py para imprimir linhas de um arquivo na ordem inversa.\n",
    "      \n",
    "      \n",
    "      $ cat she.txt\n",
    "      She sells seashells on the seashore;\n",
    "      The shells that she sells are seashells I'm sure.\n",
    "      So if she sells seashells on the seashore,\n",
    "      I'm sure that the shells are seashore shells.\n",
    "\n",
    "      $ python reverse.py she.txt\n",
    "      I'm sure that the shells are seashore shells.\n",
    "      So if she sells seashells on the seashore,\n",
    "      The shells that she sells are seashells I'm sure.\n",
    "      She sells seashells on the seashore;"
   ]
  },
  {
   "cell_type": "code",
   "execution_count": 21,
   "metadata": {},
   "outputs": [
    {
     "name": "stdout",
     "output_type": "stream",
     "text": [
      "She sells seashells on the seashore;\n",
      "The shells that she sells are seashells I'm sure.\n",
      "So if she sells seashells on the seashore,\n",
      "I'm sure that the shells are seashore shells.\n",
      "\n"
     ]
    }
   ],
   "source": [
    "f = open(\"she.txt\", \"r\")\n",
    "print(f.read())"
   ]
  },
  {
   "cell_type": "code",
   "execution_count": 23,
   "metadata": {},
   "outputs": [
    {
     "name": "stdout",
     "output_type": "stream",
     "text": [
      "I'm sure that the shells are seashore shells.\n",
      "So if she sells seashells on the seashore,\n",
      "The shells that she sells are seashells I'm sure.\n",
      "She sells seashells on the seashore;\n"
     ]
    }
   ],
   "source": [
    "for line in reversed(list(open(\"she.txt\"))):\n",
    "    print(line.rstrip()) # rstrip tira o espaçamento entre as linhas"
   ]
  },
  {
   "cell_type": "markdown",
   "metadata": {},
   "source": [
    "17) Escreva um programa wrap.py que recebe o nome de um arquivo e um comprimento, e quebra as linhas com comprimento maior que o argumento.\n",
    "\n",
    "```\n",
    " $ python wrap.py she.txt 30\n",
    " I'm sure that the shells are s\n",
    " eashore shells.\n",
    " So if she sells seashells on t\n",
    " he seashore,\n",
    " The shells that she sells are \n",
    " seashells I'm sure.\n",
    " She sells seashells on the sea\n",
    " shore;\n",
    " ```"
   ]
  },
  {
   "cell_type": "code",
   "execution_count": 45,
   "metadata": {},
   "outputs": [
    {
     "name": "stdout",
     "output_type": "stream",
     "text": [
      "She sells seashells on the\n",
      "seashore; The shells that she\n",
      "sells are seashells I'm sure.\n",
      "So if she sells seashells on\n",
      "the seashore, I'm sure that\n",
      "the shells are seashore\n",
      "shells.\n"
     ]
    }
   ],
   "source": [
    "from textwrap import wrap\n",
    "with open ('she.txt') as f:\n",
    "    # Wrap this text. \n",
    "    wrapper = textwrap.TextWrapper(width=30) \n",
    "  \n",
    "    word_list = wrapper.wrap(text=f.read()) \n",
    "  \n",
    "# Print each line. \n",
    "    for element in word_list: \n",
    "        print(element) "
   ]
  },
  {
   "cell_type": "markdown",
   "metadata": {},
   "source": [
    "18) Escreva um programa que conta a frequência de cada caracter em um arquivo."
   ]
  },
  {
   "cell_type": "code",
   "execution_count": 38,
   "metadata": {},
   "outputs": [
    {
     "name": "stdout",
     "output_type": "stream",
     "text": [
      "Counter({'s': 31, 'e': 29, ' ': 27, 'h': 18, 'l': 18, 'a': 10, 't': 7, 'r': 7, 'o': 6, '\\n': 4, 'S': 2, 'n': 2, 'I': 2, \"'\": 2, 'm': 2, 'u': 2, '.': 2, ';': 1, 'T': 1, 'i': 1, 'f': 1, ',': 1})\n"
     ]
    }
   ],
   "source": [
    "from collections import Counter\n",
    "with open('she.txt') as f:\n",
    "    c = Counter()\n",
    "    for line in f:\n",
    "        c += Counter(line)\n",
    "print(c)"
   ]
  },
  {
   "cell_type": "markdown",
   "metadata": {},
   "source": [
    "19) Escreva um programa que acha os anagramas em uma lista de palavras (duas palavras são anagramas se uma palavra pode ser formada rearranjando as letras de outra)\n",
    "\n",
    "    >>> anagrams(['eat', 'ate', 'done', 'tea', 'soup', 'node'])\n",
    "    [['eat', 'ate', 'tea], ['done', 'node'], ['soup']]"
   ]
  },
  {
   "cell_type": "code",
   "execution_count": 57,
   "metadata": {},
   "outputs": [
    {
     "data": {
      "text/plain": [
       "[['eat', 'ate', 'tea'], ['done', 'node'], ['soup']]"
      ]
     },
     "execution_count": 57,
     "metadata": {},
     "output_type": "execute_result"
    }
   ],
   "source": [
    "from collections import defaultdict\n",
    "\n",
    "def anagrams(words):\n",
    "    lookup = defaultdict(list)\n",
    "    for word in words:\n",
    "        lookup[\"\".join(sorted(word))].append(word)\n",
    "    return list(lookup.values())\n",
    "anagrams(['eat', 'ate', 'done', 'tea', 'soup', 'node'])\n"
   ]
  },
  {
   "cell_type": "markdown",
   "metadata": {},
   "source": [
    "20) Escreva uma funcão valuesort para ordenar valores em um dicionário baseado em sua chave.\n",
    "\n",
    "    >>> valuesort({'x': 1, 'y': 2, 'a': 3})\n",
    "    [3, 1, 2]"
   ]
  },
  {
   "cell_type": "code",
   "execution_count": 9,
   "metadata": {},
   "outputs": [
    {
     "name": "stdout",
     "output_type": "stream",
     "text": [
      "[3, 1, 2]\n"
     ]
    }
   ],
   "source": [
    "dict = {'x': 1, 'y': 2, 'a': 3}\n",
    "def valuesort(dict):\n",
    "    dict1 = sorted(dict.items())\n",
    "    dict2 = [n[1] for n in dict1]\n",
    "print (dict2)\n"
   ]
  },
  {
   "cell_type": "markdown",
   "metadata": {},
   "source": [
    "21) Escreva a funcão invertdict para inverter chaves e valores no dicionário.\n",
    "\n",
    "\n",
    "```>>> invertdict({'x': 1, 'y': 2, 'z': 3})```\n",
    "\n",
    "    {1: 'x', 2: 'y', 3: 'z'}\n",
    "    "
   ]
  },
  {
   "cell_type": "code",
   "execution_count": 19,
   "metadata": {},
   "outputs": [
    {
     "name": "stdout",
     "output_type": "stream",
     "text": [
      "{1: 'x', 2: 'y', 3: 'a'}\n"
     ]
    }
   ],
   "source": [
    "dict = {'x': 1, 'y': 2, 'a': 3}\n",
    "def invertdict(dict):\n",
    "    i = {}\n",
    "    for j in dict.items():\n",
    "        i[j[1]] = j[0]\n",
    "    return i\n",
    "        \n",
    "print (invertdict(dict))"
   ]
  }
 ],
 "metadata": {
  "kernelspec": {
   "display_name": "Python 3",
   "language": "python",
   "name": "python3"
  },
  "language_info": {
   "codemirror_mode": {
    "name": "ipython",
    "version": 3
   },
   "file_extension": ".py",
   "mimetype": "text/x-python",
   "name": "python",
   "nbconvert_exporter": "python",
   "pygments_lexer": "ipython3",
   "version": "3.8.5"
  }
 },
 "nbformat": 4,
 "nbformat_minor": 4
}
